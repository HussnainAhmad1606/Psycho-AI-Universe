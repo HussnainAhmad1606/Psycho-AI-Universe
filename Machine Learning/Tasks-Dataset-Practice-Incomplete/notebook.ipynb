{
 "cells": [
  {
   "cell_type": "code",
   "execution_count": 59,
   "id": "96b24f1a-8e6c-4e8e-a9d8-2c1dace1cd4c",
   "metadata": {},
   "outputs": [],
   "source": [
    "import pandas as pd\n",
    "import numpy as np\n",
    "from sklearn.model_selection import train_test_split\n",
    "from sklearn.preprocessing import StandardScaler\n",
    "from sklearn.linear_model import LogisticRegression\n",
    "from sklearn.metrics import accuracy_score, classification_report\n",
    "from sklearn.feature_extraction.text import CountVectorizer\n",
    "from sklearn.naive_bayes import MultinomialNB"
   ]
  },
  {
   "cell_type": "code",
   "execution_count": 88,
   "id": "f85a0f77-34c8-45ed-8c02-043a1285ed0a",
   "metadata": {},
   "outputs": [
    {
     "data": {
      "text/plain": [
       "(169, 4)"
      ]
     },
     "execution_count": 88,
     "metadata": {},
     "output_type": "execute_result"
    }
   ],
   "source": [
    "dataset = pd.read_csv(\"dataset.csv\")\n",
    "dataset.head()\n",
    "dataset.shape"
   ]
  },
  {
   "cell_type": "code",
   "execution_count": 84,
   "id": "6c55c7f5-0190-4d77-b6ba-0080b0a81b49",
   "metadata": {},
   "outputs": [],
   "source": [
    "# Step 1: Split the data into training and testing sets\n",
    "X_train, X_test, y_train, y_test = train_test_split(dataset['Description'], dataset['Priority'], test_size=0.3, random_state=50)\n",
    "\n",
    "# Step 2: Create a CountVectorizer\n",
    "count_vectorizer = CountVectorizer(stop_words='english')\n",
    "\n",
    "# Step 3: Fit and transform the training data\n",
    "X_train_count = count_vectorizer.fit_transform(X_train)\n",
    "\n",
    "# Step 4: Transform the test data\n",
    "X_test_count = count_vectorizer.transform(X_test)"
   ]
  },
  {
   "cell_type": "code",
   "execution_count": 85,
   "id": "3c7b34df-ded3-478b-8150-f2669503018d",
   "metadata": {},
   "outputs": [],
   "source": [
    "scaler = StandardScaler()\n",
    "\n",
    "# Step 6: Fit and transform the training data\n",
    "X_train_scaled = scaler.fit_transform(X_train_count.toarray())  # Assuming sparse matrix to dense array\n",
    "\n",
    "# Step 7: Transform the test data\n",
    "X_test_scaled = scaler.transform(X_test_count.toarray())  # Assuming sparse matrix to dense array\n"
   ]
  },
  {
   "cell_type": "code",
   "execution_count": 86,
   "id": "13e6b7cf-1dc0-47cd-9cf9-4c4c81d90fc1",
   "metadata": {},
   "outputs": [],
   "source": [
    "# Step 5: Choose a classifier (e.g., Multinomial Naive Bayes) and train the model\n",
    "classifier = MultinomialNB()\n",
    "classifier.fit(X_train_count, y_train)\n",
    "\n",
    "# Step 6: Make predictions on the test set\n",
    "y_pred = classifier.predict(X_test_count)\n"
   ]
  },
  {
   "cell_type": "code",
   "execution_count": 87,
   "id": "a13a027d-cbf7-4f37-9d81-7de4c9a6fda5",
   "metadata": {},
   "outputs": [
    {
     "name": "stdout",
     "output_type": "stream",
     "text": [
      "Accuracy: 0.5294117647058824\n",
      "Classification Report:\n",
      "              precision    recall  f1-score   support\n",
      "\n",
      "           1       0.57      0.73      0.64        22\n",
      "           2       0.53      0.44      0.48        18\n",
      "           3       0.38      0.27      0.32        11\n",
      "\n",
      "    accuracy                           0.53        51\n",
      "   macro avg       0.49      0.48      0.48        51\n",
      "weighted avg       0.52      0.53      0.52        51\n",
      "\n"
     ]
    }
   ],
   "source": [
    "accuracy = accuracy_score(y_test, y_pred)\n",
    "classification_report_result = classification_report(y_test, y_pred)\n",
    "\n",
    "# Print the results\n",
    "print(f'Accuracy: {accuracy}')\n",
    "print(f'Classification Report:\\n{classification_report_result}')"
   ]
  },
  {
   "cell_type": "code",
   "execution_count": null,
   "id": "cef0f488-9bbb-48df-84d9-7d0a1811bc10",
   "metadata": {},
   "outputs": [],
   "source": []
  }
 ],
 "metadata": {
  "kernelspec": {
   "display_name": "Python 3 (ipykernel)",
   "language": "python",
   "name": "python3"
  },
  "language_info": {
   "codemirror_mode": {
    "name": "ipython",
    "version": 3
   },
   "file_extension": ".py",
   "mimetype": "text/x-python",
   "name": "python",
   "nbconvert_exporter": "python",
   "pygments_lexer": "ipython3",
   "version": "3.11.4"
  }
 },
 "nbformat": 4,
 "nbformat_minor": 5
}
